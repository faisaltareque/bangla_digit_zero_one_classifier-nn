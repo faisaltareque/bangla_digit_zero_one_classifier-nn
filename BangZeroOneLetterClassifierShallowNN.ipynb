{
 "cells": [
  {
   "cell_type": "code",
   "execution_count": 1,
   "id": "c6437dbf",
   "metadata": {},
   "outputs": [],
   "source": [
    "import numpy as np\n",
    "import cv2\n",
    "import os\n",
    "from os import listdir\n",
    "from os.path import isfile, join\n",
    "import matplotlib.pyplot as plt\n",
    "from scipy import ndimage\n",
    "from PIL import Image\n",
    "import math\n",
    "import random"
   ]
  },
  {
   "cell_type": "markdown",
   "id": "ff6bd4ee",
   "metadata": {},
   "source": [
    "### Loading Image Dataset\n",
    "\n",
    "shape of image_digit_list is [[[64*64 image ndarray],digit(0/1)]]\n"
   ]
  },
  {
   "cell_type": "code",
   "execution_count": 2,
   "id": "70f95a63",
   "metadata": {},
   "outputs": [],
   "source": [
    "digit_direcroty_image_list = []\n",
    "for i in range(2):\n",
    "    mypath = os.path.join('BanglaDigitZeroOne', str(i))\n",
    "    onlyfiles = [f for f in listdir(mypath) if isfile(join(mypath, f))]\n",
    "    digit_direcroty_image_list.append([i, mypath, onlyfiles])\n",
    "\n",
    "image_digit_list = []\n",
    "for item in digit_direcroty_image_list:\n",
    "    digit = item[0]\n",
    "    digit_directory = item[1]\n",
    "    image_list = item[2]\n",
    "    for image in image_list:\n",
    "        path = os.path.join(digit_directory, image)\n",
    "        img = cv2.imread(path, cv2.IMREAD_UNCHANGED)\n",
    "        resized = cv2.resize(img, (64,64), interpolation = cv2.INTER_AREA)\n",
    "        image_digit_list.append([resized, digit])\n",
    "random.shuffle(image_digit_list)"
   ]
  },
  {
   "cell_type": "code",
   "execution_count": 3,
   "id": "ff07f691",
   "metadata": {},
   "outputs": [],
   "source": [
    "X = [i[0] for i in image_digit_list]  # Image 64*64 ndarray to X\n",
    "y = [i[1] for i in image_digit_list]  # Image label to y\n",
    "X = np.array(X)                       # ndarray list to numpy array shape (3964, 64, 64)\n",
    "y = np.array(y)                       # list to numpy array unranked shape (3964,)\n",
    "y = y.reshape(1,y.shape[0])           # unranked array to (1, 3964) shaped array"
   ]
  },
  {
   "cell_type": "code",
   "execution_count": 4,
   "id": "0edcb47a",
   "metadata": {},
   "outputs": [
    {
     "name": "stdout",
     "output_type": "stream",
     "text": [
      "(3964, 64, 64)\n",
      "(1, 3964)\n"
     ]
    }
   ],
   "source": [
    "print(X.shape)                       # (3964, 64, 64)\n",
    "print(y.shape)                       # (1, 3964)"
   ]
  },
  {
   "cell_type": "markdown",
   "id": "9fb08cad-f4d9-410d-8754-9b67339bf53b",
   "metadata": {},
   "source": [
    "## Display random image"
   ]
  },
  {
   "cell_type": "code",
   "execution_count": 5,
   "id": "78a7599f",
   "metadata": {},
   "outputs": [
    {
     "name": "stdout",
     "output_type": "stream",
     "text": [
      "0\n"
     ]
    },
    {
     "data": {
      "image/png": "[encoded data removed]",
      "text/plain": [
       "<Figure size 432x288 with 1 Axes>"
      ]
     },
     "metadata": {
      "needs_background": "light"
     },
     "output_type": "display_data"
    }
   ],
   "source": [
    "index = 546\n",
    "print(np.squeeze(y[:, index]))\n",
    "plt.imshow(X[index], cmap='gray', vmin=0, vmax=255)\n",
    "plt.show()"
   ]
  },
  {
   "cell_type": "markdown",
   "id": "57460b98",
   "metadata": {},
   "source": [
    "### Train Test Split the Dataset"
   ]
  },
  {
   "cell_type": "code",
   "execution_count": 6,
   "id": "0a2fe63b",
   "metadata": {},
   "outputs": [],
   "source": [
    "dataset_length = len(X)\n",
    "train_length = math.ceil(dataset_length*.8)\n",
    "train_set_x_orig = X[:train_length]          # (3172, 64, 64)\n",
    "train_set_y = y[:,:train_length]             # (1, 3172)\n",
    "test_set_x_orig =X[train_length:]            # (792, 64, 64)\n",
    "test_set_y = y[:,train_length:]              # (1, 792)"
   ]
  },
  {
   "cell_type": "markdown",
   "id": "c8007c9d",
   "metadata": {},
   "source": [
    "### Flatten Dataset"
   ]
  },
  {
   "cell_type": "code",
   "execution_count": 7,
   "id": "c246dbde",
   "metadata": {},
   "outputs": [],
   "source": [
    "train_set_x_flatten = train_set_x_orig.reshape(train_set_x_orig.shape[1]*train_set_x_orig.shape[2],train_set_x_orig.shape[0])     # (3172, 64, 64) ==> (4096, 3172)\n",
    "test_set_x_flatten = test_set_x_orig.reshape(test_set_x_orig.shape[1]*test_set_x_orig.shape[2],test_set_x_orig.shape[0])          # (792, 64, 64) ==> (4096, 792)"
   ]
  },
  {
   "cell_type": "code",
   "execution_count": 8,
   "id": "df41995b",
   "metadata": {},
   "outputs": [
    {
     "name": "stdout",
     "output_type": "stream",
     "text": [
      "train_set_x_flatten shape: (4096, 3172)\n",
      "train_set_y shape: (1, 3172)\n",
      "test_set_x_flatten shape: (4096, 792)\n",
      "test_set_y shape: (1, 792)\n"
     ]
    }
   ],
   "source": [
    "print (\"train_set_x_flatten shape: \" + str(train_set_x_flatten.shape))\n",
    "print (\"train_set_y shape: \" + str(train_set_y.shape))\n",
    "print (\"test_set_x_flatten shape: \" + str(test_set_x_flatten.shape))\n",
    "print (\"test_set_y shape: \" + str(test_set_y.shape))"
   ]
  },
  {
   "cell_type": "markdown",
   "id": "58c8dfe4",
   "metadata": {},
   "source": [
    "### Normalizing Dataset"
   ]
  },
  {
   "cell_type": "code",
   "execution_count": 9,
   "id": "4fbcbe30",
   "metadata": {},
   "outputs": [],
   "source": [
    "train_set_x = train_set_x_flatten/255.\n",
    "test_set_x = test_set_x_flatten/255."
   ]
  },
  {
   "cell_type": "markdown",
   "id": "a1d7a0d9",
   "metadata": {},
   "source": [
    "## General Architecture of the learning algorithm ##\n",
    "\n",
    "We will build a Logistic Regression, using a Neural Network mindset. The following Figure explains why **Logistic Regression is actually a very simple Neural Network!**\n",
    "\n",
    "\n",
    "**Mathematical expression of the algorithm**:\n",
    "\n",
    "For one example $x^{(i)}$:\n",
    "$$z^{(i)} = w^T x^{(i)} + b \\tag{1}$$\n",
    "$$\\hat{y}^{(i)} = a^{(i)} = sigmoid(z^{(i)})\\tag{2}$$ \n",
    "$$ \\mathcal{L}(a^{(i)}, y^{(i)}) =  - y^{(i)}  \\log(a^{(i)}) - (1-y^{(i)} )  \\log(1-a^{(i)})\\tag{3}$$\n",
    "\n",
    "The cost is then computed by summing over all training examples:\n",
    "$$ J = \\frac{1}{m} \\sum_{i=1}^m \\mathcal{L}(a^{(i)}, y^{(i)})\\tag{6}$$\n",
    "\n",
    "**Key steps**:\n",
    "    - Initialize the parameters of the model\n",
    "    - Learn the parameters for the model by minimizing the cost  \n",
    "    - Use the learned parameters to make predictions (on the test set)\n",
    "    - Analyse the results and conclude"
   ]
  },
  {
   "cell_type": "markdown",
   "id": "42222ba1",
   "metadata": {},
   "source": [
    "# Helper Functions"
   ]
  },
  {
   "cell_type": "markdown",
   "id": "71210161",
   "metadata": {},
   "source": [
    "### Sigmoid"
   ]
  },
  {
   "cell_type": "code",
   "execution_count": 10,
   "id": "97b3340b",
   "metadata": {},
   "outputs": [],
   "source": [
    "def sigmoid(z):\n",
    "    s = 1/(1+np.exp(-z))    \n",
    "    return s"
   ]
  },
  {
   "cell_type": "markdown",
   "id": "ad684dea",
   "metadata": {},
   "source": [
    "### Initializing Parameters\n",
    "Initialize weights and bias as zero\n",
    "- dim -- size of the w vector we want (or number of parameters in this case)\n",
    "- w -- initialized vector of shape (dim, 1)\n",
    "- b -- initialized scalar (corresponds to the bias)"
   ]
  },
  {
   "cell_type": "code",
   "execution_count": 17,
   "id": "c7f28f73",
   "metadata": {},
   "outputs": [],
   "source": [
    "def initialize_with_zeros(dim):\n",
    "    w = np.zeros((dim,1))\n",
    "    b = 0.0\n",
    "    assert(w.shape == (dim, 1))\n",
    "    assert(isinstance(b, float) or isinstance(b, int)) \n",
    "    return w,b"
   ]
  },
  {
   "cell_type": "markdown",
   "id": "fddb1643",
   "metadata": {},
   "source": [
    "### Forward and Backward propagation\n",
    "\n",
    "Now that our parameters are initialized, we can do the \"forward\" and \"backward\" propagation steps for learning the parameters.\n",
    "\n",
    "Forward Propagation:\n",
    "- We get X\n",
    "- We compute $A = \\sigma(w^T X + b) = (a^{(1)}, a^{(2)}, ..., a^{(m-1)}, a^{(m)})$\n",
    "- We calculate the cost function: $J = -\\frac{1}{m}\\sum_{i=1}^{m}y^{(i)}\\log(a^{(i)})+(1-y^{(i)})\\log(1-a^{(i)})$\n",
    "\n",
    "Here are the two formulas we will be using: \n",
    "\n",
    "$$ \\frac{\\partial J}{\\partial w} = \\frac{1}{m}X(A-Y)^T\\tag{7}$$\n",
    "$$ \\frac{\\partial J}{\\partial b} = \\frac{1}{m} \\sum_{i=1}^m (a^{(i)}-y^{(i)})\\tag{8}$$"
   ]
  },
  {
   "cell_type": "code",
   "execution_count": 12,
   "id": "d6b06cc1",
   "metadata": {},
   "outputs": [],
   "source": [
    "def propagate(w, b, X, Y):\n",
    "    # Saving Dataset Lentgh or Number of examples in m\n",
    "    m = X.shape[1]\n",
    "    # Computing activation A or prediction using sigmoid function\n",
    "    # w of shape (number_of_feature,1) to w.T of shape (1,number_of_feature)\n",
    "    # w.T(1,number_of_feature) dot X(number_of_features, number_of_examples)\n",
    "    A = sigmoid(np.dot(w.T,X) + b)\n",
    "    # Computing Cost Using Computed Activation or Prediction and Original Label based on cost formula\n",
    "    cost = np.sum(((- np.log(A))*Y + (-np.log(1-A))*(1-Y)))/m\n",
    "    # Computing Computing Gradients based on derivatives formula\n",
    "    dw = (np.dot(X,(A-Y).T))/m\n",
    "    db = (np.sum(A-Y))/m\n",
    "\n",
    "    assert(dw.shape == w.shape)\n",
    "    assert(db.dtype == float)\n",
    "    cost = np.squeeze(cost)\n",
    "    assert(cost.shape == ())\n",
    "    \n",
    "    grads = {\"dw\": dw, \"db\": db}\n",
    "    \n",
    "    return grads, cost"
   ]
  },
  {
   "cell_type": "markdown",
   "id": "12a479af",
   "metadata": {},
   "source": [
    "### Optimization\n",
    "- We have initialized your parameters.\n",
    "- We are also able to compute a cost function and its gradient.\n",
    "- Now, we want to update the parameters using gradient descent.\n",
    "\n",
    "Write down the optimization function. The goal is to learn $w$ and $b$ by minimizing the cost function $J$. For a parameter $\\theta$, the update rule is $ \\theta = \\theta - \\alpha \\text{ } d\\theta$, where $\\alpha$ is the learning rate."
   ]
  },
  {
   "cell_type": "code",
   "execution_count": 13,
   "id": "ebef339c",
   "metadata": {},
   "outputs": [],
   "source": [
    "def optimize(w, b, X, Y, num_iterations, learning_rate, print_cost = False):\n",
    "    costs = []    \n",
    "    for i in range(num_iterations):\n",
    "        grads, cost = propagate(w, b, X, Y)        \n",
    "        # Retrieve derivatives from grads\n",
    "        dw = grads[\"dw\"]\n",
    "        db = grads[\"db\"]        \n",
    "        # update rule\n",
    "        w = w - (learning_rate*dw)\n",
    "        b = b - (learning_rate*db)        \n",
    "        if i % 100 == 0:\n",
    "            costs.append(cost)\n",
    "        if print_cost and i % 100 == 0:\n",
    "            print (\"Cost after iteration %i: %f\" %(i, cost))\n",
    "    \n",
    "    params = {\"w\": w, \"b\": b}    \n",
    "    grads = {\"dw\": dw, \"db\": db}    \n",
    "    return params, grads, costs"
   ]
  },
  {
   "cell_type": "markdown",
   "id": "84447f3d",
   "metadata": {},
   "source": [
    "### Predict"
   ]
  },
  {
   "cell_type": "code",
   "execution_count": 14,
   "id": "c3c99c33",
   "metadata": {},
   "outputs": [],
   "source": [
    "def predict(w, b, X):\n",
    "    '''  \n",
    "    Returns:\n",
    "    Y_prediction -- a numpy array (vector) containing all predictions (0/1) for the examples in X\n",
    "    '''    \n",
    "    m = X.shape[1]\n",
    "    Y_prediction = np.zeros((1,m))\n",
    "    w = w.reshape(X.shape[0], 1)    \n",
    "    # Compute vector \"A\" predicting the probabilities of a cat being present in the picture\n",
    "    A = sigmoid(np.dot(w.T,X) + b)           # Dimentions = (1, m) \n",
    "\n",
    "    for i in range(A.shape[1]):        \n",
    "        Y_prediction[0, i] = 1 if A[0,i] >=0.5 else 0 ## Convert probabilities A[0,i] to actual predictions p[0,i]    \n",
    "    \n",
    "    assert(Y_prediction.shape == (1, m))    \n",
    "    return Y_prediction"
   ]
  },
  {
   "cell_type": "markdown",
   "id": "9d8a3d86",
   "metadata": {},
   "source": [
    "## Merge all functions into a model "
   ]
  },
  {
   "cell_type": "code",
   "execution_count": 15,
   "id": "20840d40",
   "metadata": {},
   "outputs": [],
   "source": [
    "def model(X_train, Y_train, X_test, Y_test, num_iterations = 2000, learning_rate = 0.5, print_cost = False):        \n",
    "    # initialize parameters with zeros\n",
    "    w, b = initialize_with_zeros(X_train.shape[0])\n",
    "    # Gradient descent\n",
    "    parameters, grads, costs = optimize(w, b, X_train, Y_train, num_iterations, learning_rate, print_cost)    \n",
    "    # Retrieve parameters w and b from dictionary \"parameters\"\n",
    "    w = parameters[\"w\"]\n",
    "    b = parameters[\"b\"]\n",
    "    # Predict test/train set examples\n",
    "    Y_prediction_test = predict(w, b, X_test)\n",
    "    Y_prediction_train = predict(w, b, X_train)\n",
    "\n",
    "    # Print train/test Errors\n",
    "    print(\"train accuracy: {} %\".format(100 - np.mean(np.abs(Y_prediction_train - Y_train)) * 100))\n",
    "    print(\"test accuracy: {} %\".format(100 - np.mean(np.abs(Y_prediction_test - Y_test)) * 100))\n",
    "    \n",
    "    d = {\"costs\": costs,\n",
    "         \"Y_prediction_test\": Y_prediction_test, \n",
    "         \"Y_prediction_train\" : Y_prediction_train, \n",
    "         \"w\" : w, \n",
    "         \"b\" : b,\n",
    "         \"learning_rate\" : learning_rate,\n",
    "         \"num_iterations\": num_iterations}\n",
    "    \n",
    "    return d"
   ]
  },
  {
   "cell_type": "code",
   "execution_count": 18,
   "id": "c066b247",
   "metadata": {},
   "outputs": [
    {
     "name": "stdout",
     "output_type": "stream",
     "text": [
      "Cost after iteration 0: 0.693147\n",
      "Cost after iteration 100: 0.659264\n",
      "Cost after iteration 200: 0.645577\n",
      "Cost after iteration 300: 0.634877\n",
      "Cost after iteration 400: 0.625757\n",
      "Cost after iteration 500: 0.617694\n",
      "Cost after iteration 600: 0.610412\n",
      "Cost after iteration 700: 0.603743\n",
      "Cost after iteration 800: 0.597575\n",
      "Cost after iteration 900: 0.591824\n",
      "Cost after iteration 1000: 0.586429\n",
      "Cost after iteration 1100: 0.581343\n",
      "Cost after iteration 1200: 0.576528\n",
      "Cost after iteration 1300: 0.571952\n",
      "Cost after iteration 1400: 0.567590\n",
      "Cost after iteration 1500: 0.563419\n",
      "Cost after iteration 1600: 0.559423\n",
      "Cost after iteration 1700: 0.555584\n",
      "Cost after iteration 1800: 0.551890\n",
      "Cost after iteration 1900: 0.548328\n",
      "Cost after iteration 2000: 0.544887\n",
      "Cost after iteration 2100: 0.541560\n",
      "Cost after iteration 2200: 0.538336\n",
      "Cost after iteration 2300: 0.535210\n",
      "Cost after iteration 2400: 0.532175\n",
      "Cost after iteration 2500: 0.529224\n",
      "Cost after iteration 2600: 0.526352\n",
      "Cost after iteration 2700: 0.523555\n",
      "Cost after iteration 2800: 0.520828\n",
      "Cost after iteration 2900: 0.518168\n",
      "Cost after iteration 3000: 0.515570\n",
      "Cost after iteration 3100: 0.513031\n",
      "Cost after iteration 3200: 0.510549\n",
      "Cost after iteration 3300: 0.508120\n",
      "Cost after iteration 3400: 0.505742\n",
      "Cost after iteration 3500: 0.503413\n",
      "Cost after iteration 3600: 0.501130\n",
      "Cost after iteration 3700: 0.498891\n",
      "Cost after iteration 3800: 0.496694\n",
      "Cost after iteration 3900: 0.494538\n",
      "Cost after iteration 4000: 0.492421\n",
      "Cost after iteration 4100: 0.490341\n",
      "Cost after iteration 4200: 0.488296\n",
      "Cost after iteration 4300: 0.486287\n",
      "Cost after iteration 4400: 0.484310\n",
      "Cost after iteration 4500: 0.482366\n",
      "Cost after iteration 4600: 0.480452\n",
      "Cost after iteration 4700: 0.478568\n",
      "Cost after iteration 4800: 0.476713\n",
      "Cost after iteration 4900: 0.474886\n",
      "Cost after iteration 5000: 0.473086\n",
      "Cost after iteration 5100: 0.471311\n",
      "Cost after iteration 5200: 0.469562\n",
      "Cost after iteration 5300: 0.467838\n",
      "Cost after iteration 5400: 0.466137\n",
      "Cost after iteration 5500: 0.464459\n",
      "Cost after iteration 5600: 0.462804\n",
      "Cost after iteration 5700: 0.461170\n",
      "Cost after iteration 5800: 0.459557\n",
      "Cost after iteration 5900: 0.457965\n",
      "Cost after iteration 6000: 0.456393\n",
      "Cost after iteration 6100: 0.454840\n",
      "Cost after iteration 6200: 0.453306\n",
      "Cost after iteration 6300: 0.451791\n",
      "Cost after iteration 6400: 0.450293\n",
      "Cost after iteration 6500: 0.448813\n",
      "Cost after iteration 6600: 0.447350\n",
      "Cost after iteration 6700: 0.445904\n",
      "Cost after iteration 6800: 0.444474\n",
      "Cost after iteration 6900: 0.443060\n",
      "Cost after iteration 7000: 0.441662\n",
      "Cost after iteration 7100: 0.440279\n",
      "Cost after iteration 7200: 0.438910\n",
      "Cost after iteration 7300: 0.437556\n",
      "Cost after iteration 7400: 0.436216\n",
      "Cost after iteration 7500: 0.434890\n",
      "Cost after iteration 7600: 0.433578\n",
      "Cost after iteration 7700: 0.432278\n",
      "Cost after iteration 7800: 0.430992\n",
      "Cost after iteration 7900: 0.429719\n",
      "Cost after iteration 8000: 0.428458\n",
      "Cost after iteration 8100: 0.427209\n",
      "Cost after iteration 8200: 0.425972\n",
      "Cost after iteration 8300: 0.424747\n",
      "Cost after iteration 8400: 0.423533\n",
      "Cost after iteration 8500: 0.422331\n",
      "Cost after iteration 8600: 0.421140\n",
      "Cost after iteration 8700: 0.419959\n",
      "Cost after iteration 8800: 0.418790\n",
      "Cost after iteration 8900: 0.417630\n",
      "Cost after iteration 9000: 0.416481\n",
      "Cost after iteration 9100: 0.415342\n",
      "Cost after iteration 9200: 0.414213\n",
      "Cost after iteration 9300: 0.413094\n",
      "Cost after iteration 9400: 0.411984\n",
      "Cost after iteration 9500: 0.410884\n",
      "Cost after iteration 9600: 0.409792\n",
      "Cost after iteration 9700: 0.408710\n",
      "Cost after iteration 9800: 0.407637\n",
      "Cost after iteration 9900: 0.406573\n",
      "Cost after iteration 10000: 0.405517\n",
      "Cost after iteration 10100: 0.404469\n",
      "Cost after iteration 10200: 0.403430\n",
      "Cost after iteration 10300: 0.402399\n",
      "Cost after iteration 10400: 0.401377\n",
      "Cost after iteration 10500: 0.400362\n",
      "Cost after iteration 10600: 0.399355\n",
      "Cost after iteration 10700: 0.398355\n",
      "Cost after iteration 10800: 0.397364\n",
      "Cost after iteration 10900: 0.396379\n",
      "Cost after iteration 11000: 0.395402\n",
      "Cost after iteration 11100: 0.394433\n",
      "Cost after iteration 11200: 0.393470\n",
      "Cost after iteration 11300: 0.392515\n",
      "Cost after iteration 11400: 0.391566\n",
      "Cost after iteration 11500: 0.390624\n",
      "Cost after iteration 11600: 0.389689\n",
      "Cost after iteration 11700: 0.388760\n",
      "Cost after iteration 11800: 0.387839\n",
      "Cost after iteration 11900: 0.386923\n",
      "Cost after iteration 12000: 0.386014\n",
      "Cost after iteration 12100: 0.385111\n",
      "Cost after iteration 12200: 0.384214\n",
      "Cost after iteration 12300: 0.383323\n",
      "Cost after iteration 12400: 0.382439\n",
      "Cost after iteration 12500: 0.381560\n",
      "Cost after iteration 12600: 0.380687\n",
      "Cost after iteration 12700: 0.379820\n",
      "Cost after iteration 12800: 0.378959\n",
      "Cost after iteration 12900: 0.378103\n",
      "Cost after iteration 13000: 0.377252\n",
      "Cost after iteration 13100: 0.376408\n",
      "Cost after iteration 13200: 0.375568\n",
      "Cost after iteration 13300: 0.374734\n",
      "Cost after iteration 13400: 0.373905\n",
      "Cost after iteration 13500: 0.373082\n",
      "Cost after iteration 13600: 0.372263\n",
      "Cost after iteration 13700: 0.371450\n",
      "Cost after iteration 13800: 0.370641\n",
      "Cost after iteration 13900: 0.369838\n",
      "Cost after iteration 14000: 0.369039\n",
      "Cost after iteration 14100: 0.368246\n",
      "Cost after iteration 14200: 0.367457\n",
      "Cost after iteration 14300: 0.366672\n",
      "Cost after iteration 14400: 0.365893\n",
      "Cost after iteration 14500: 0.365118\n",
      "Cost after iteration 14600: 0.364347\n",
      "Cost after iteration 14700: 0.363581\n",
      "Cost after iteration 14800: 0.362820\n",
      "Cost after iteration 14900: 0.362063\n",
      "Cost after iteration 15000: 0.361310\n",
      "Cost after iteration 15100: 0.360561\n",
      "Cost after iteration 15200: 0.359817\n",
      "Cost after iteration 15300: 0.359077\n",
      "Cost after iteration 15400: 0.358341\n",
      "Cost after iteration 15500: 0.357609\n",
      "Cost after iteration 15600: 0.356882\n",
      "Cost after iteration 15700: 0.356158\n",
      "Cost after iteration 15800: 0.355438\n",
      "Cost after iteration 15900: 0.354722\n",
      "Cost after iteration 16000: 0.354011\n",
      "Cost after iteration 16100: 0.353302\n",
      "Cost after iteration 16200: 0.352598\n",
      "Cost after iteration 16300: 0.351898\n",
      "Cost after iteration 16400: 0.351201\n",
      "Cost after iteration 16500: 0.350508\n",
      "Cost after iteration 16600: 0.349818\n",
      "Cost after iteration 16700: 0.349133\n",
      "Cost after iteration 16800: 0.348450\n",
      "Cost after iteration 16900: 0.347772\n",
      "Cost after iteration 17000: 0.347096\n",
      "Cost after iteration 17100: 0.346425\n",
      "Cost after iteration 17200: 0.345756\n",
      "Cost after iteration 17300: 0.345091\n",
      "Cost after iteration 17400: 0.344430\n",
      "Cost after iteration 17500: 0.343772\n",
      "Cost after iteration 17600: 0.343117\n",
      "Cost after iteration 17700: 0.342465\n",
      "Cost after iteration 17800: 0.341817\n",
      "Cost after iteration 17900: 0.341172\n",
      "Cost after iteration 18000: 0.340530\n",
      "Cost after iteration 18100: 0.339891\n",
      "Cost after iteration 18200: 0.339255\n",
      "Cost after iteration 18300: 0.338622\n",
      "Cost after iteration 18400: 0.337993\n",
      "Cost after iteration 18500: 0.337366\n",
      "Cost after iteration 18600: 0.336742\n",
      "Cost after iteration 18700: 0.336122\n",
      "Cost after iteration 18800: 0.335504\n",
      "Cost after iteration 18900: 0.334889\n",
      "Cost after iteration 19000: 0.334277\n",
      "Cost after iteration 19100: 0.333668\n",
      "Cost after iteration 19200: 0.333062\n",
      "Cost after iteration 19300: 0.332459\n",
      "Cost after iteration 19400: 0.331858\n",
      "Cost after iteration 19500: 0.331261\n",
      "Cost after iteration 19600: 0.330665\n",
      "Cost after iteration 19700: 0.330073\n",
      "Cost after iteration 19800: 0.329483\n",
      "Cost after iteration 19900: 0.328896\n",
      "train accuracy: 90.03783102143758 %\n",
      "test accuracy: 49.621212121212125 %\n"
     ]
    }
   ],
   "source": [
    "d = model(train_set_x, train_set_y, test_set_x, test_set_y, num_iterations = 20000, learning_rate = 0.02, print_cost = True)"
   ]
  },
  {
   "cell_type": "code",
   "execution_count": null,
   "id": "31912a7f",
   "metadata": {},
   "outputs": [],
   "source": []
  }
 ],
 "metadata": {
  "kernelspec": {
   "display_name": "Python 3 (ipykernel)",
   "language": "python",
   "name": "python3"
  },
  "language_info": {
   "codemirror_mode": {
    "name": "ipython",
    "version": 3
   },
   "file_extension": ".py",
   "mimetype": "text/x-python",
   "name": "python",
   "nbconvert_exporter": "python",
   "pygments_lexer": "ipython3",
   "version": "3.9.12"
  }
 },
 "nbformat": 4,
 "nbformat_minor": 5
}
