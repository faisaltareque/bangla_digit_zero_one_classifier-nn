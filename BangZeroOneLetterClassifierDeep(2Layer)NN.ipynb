{
 "cells": [
  {
   "cell_type": "markdown",
   "id": "29ef082e-d5bb-46fa-9182-f26fbab2f1b8",
   "metadata": {},
   "source": [
    "### All Module Import"
   ]
  },
  {
   "cell_type": "code",
   "execution_count": 1,
   "id": "26bff974-ce32-447f-8894-1d52f2c935dd",
   "metadata": {},
   "outputs": [],
   "source": [
    "import numpy as np\n",
    "import cv2\n",
    "import os\n",
    "from os import listdir\n",
    "from os.path import isfile, join\n",
    "import matplotlib.pyplot as plt\n",
    "from scipy import ndimage\n",
    "from PIL import Image\n",
    "import math\n",
    "import random\n",
    "import sklearn\n",
    "import sklearn.datasets\n",
    "import sklearn.linear_model"
   ]
  },
  {
   "cell_type": "code",
   "execution_count": 2,
   "id": "03ac9f96-4342-4759-b22e-5635985e6174",
   "metadata": {},
   "outputs": [],
   "source": [
    "def load_dataset():\n",
    "    digit_direcroty_image_list = []\n",
    "    for i in range(2):\n",
    "        mypath = os.path.join('BanglaDigitZeroOne', str(i))\n",
    "        onlyfiles = [f for f in listdir(mypath) if isfile(join(mypath, f))]\n",
    "        digit_direcroty_image_list.append([i, mypath, onlyfiles])\n",
    "\n",
    "    image_digit_list = []\n",
    "    for item in digit_direcroty_image_list:\n",
    "        digit = item[0]\n",
    "        digit_directory = item[1]\n",
    "        image_list = item[2]\n",
    "        for image in image_list:\n",
    "            path = os.path.join(digit_directory, image)\n",
    "            img = cv2.imread(path, cv2.IMREAD_UNCHANGED)\n",
    "            resized = cv2.resize(img, (64,64), interpolation = cv2.INTER_AREA)\n",
    "            image_digit_list.append([resized, digit])\n",
    "    random.shuffle(image_digit_list)\n",
    "    X = [i[0] for i in image_digit_list]  # Image 64*64 ndarray to X\n",
    "    y = [i[1] for i in image_digit_list]  # Image label to y\n",
    "    X = np.array(X)                       # ndarray list to numpy array shape (3964, 64, 64)\n",
    "    y = np.array(y)                       # list to numpy array unranked shape (3964,)\n",
    "    y = y.reshape(1,y.shape[0])           # unranked array to (1, 3964) shaped array\n",
    "    return X,y"
   ]
  },
  {
   "cell_type": "code",
   "execution_count": 3,
   "id": "15e53498-a630-4d01-b855-34089e4b7c5c",
   "metadata": {},
   "outputs": [],
   "source": [
    "X,y = load_dataset()"
   ]
  },
  {
   "cell_type": "code",
   "execution_count": 4,
   "id": "bba3ee60-a2c6-4b1d-b34f-54396e9d70da",
   "metadata": {},
   "outputs": [
    {
     "name": "stdout",
     "output_type": "stream",
     "text": [
      "(3964, 64, 64)\n",
      "(1, 3964)\n"
     ]
    }
   ],
   "source": [
    "print(X.shape)                       # (3964, 64, 64)\n",
    "print(y.shape)                       # (1, 3964)"
   ]
  },
  {
   "cell_type": "code",
   "execution_count": 5,
   "id": "0818fd95-409f-4691-b9da-05414b2d0bb7",
   "metadata": {},
   "outputs": [
    {
     "name": "stdout",
     "output_type": "stream",
     "text": [
      "1\n"
     ]
    },
    {
     "data": {
      "image/png": "[encoded data removed]",
      "text/plain": [
       "<Figure size 432x288 with 1 Axes>"
      ]
     },
     "metadata": {
      "needs_background": "light"
     },
     "output_type": "display_data"
    }
   ],
   "source": [
    "index = 546\n",
    "print(np.squeeze(y[:, index]))\n",
    "plt.imshow(X[index], cmap='gray', vmin=0, vmax=255)\n",
    "plt.show()"
   ]
  },
  {
   "cell_type": "code",
   "execution_count": 6,
   "id": "e9f402eb-3a5c-4248-bcb4-207739cab52b",
   "metadata": {},
   "outputs": [],
   "source": [
    "dataset_length = len(X)\n",
    "train_length = math.ceil(dataset_length*.8)\n",
    "train_set_x_orig = X[:train_length]          # (3172, 64, 64)\n",
    "train_set_y = y[:,:train_length]             # (1, 3172)\n",
    "test_set_x_orig =X[train_length:]            # (792, 64, 64)\n",
    "test_set_y = y[:,train_length:]              # (1, 792)"
   ]
  },
  {
   "cell_type": "code",
   "execution_count": 7,
   "id": "44f53126-51b7-4f81-b232-114f78ba0eeb",
   "metadata": {},
   "outputs": [],
   "source": [
    "train_set_x_flatten = train_set_x_orig.reshape(train_set_x_orig.shape[1]*train_set_x_orig.shape[2],train_set_x_orig.shape[0])     # (3172, 64, 64) ==> (4096, 3172)\n",
    "test_set_x_flatten = test_set_x_orig.reshape(test_set_x_orig.shape[1]*test_set_x_orig.shape[2],test_set_x_orig.shape[0])          # (792, 64, 64) ==> (4096, 792)"
   ]
  },
  {
   "cell_type": "code",
   "execution_count": 8,
   "id": "1f928fca-3867-4a16-aea4-a084b4761eef",
   "metadata": {},
   "outputs": [
    {
     "name": "stdout",
     "output_type": "stream",
     "text": [
      "train_set_x_flatten shape: (4096, 3172)\n",
      "train_set_y shape: (1, 3172)\n",
      "test_set_x_flatten shape: (4096, 792)\n",
      "test_set_y shape: (1, 792)\n"
     ]
    }
   ],
   "source": [
    "print (\"train_set_x_flatten shape: \" + str(train_set_x_flatten.shape))\n",
    "print (\"train_set_y shape: \" + str(train_set_y.shape))\n",
    "print (\"test_set_x_flatten shape: \" + str(test_set_x_flatten.shape))\n",
    "print (\"test_set_y shape: \" + str(test_set_y.shape))"
   ]
  },
  {
   "cell_type": "code",
   "execution_count": 9,
   "id": "37abf28a-2713-470c-be28-7f1d83b77fad",
   "metadata": {},
   "outputs": [],
   "source": [
    "train_set_x = train_set_x_flatten/255.\n",
    "test_set_x = test_set_x_flatten/255."
   ]
  },
  {
   "cell_type": "code",
   "execution_count": 10,
   "id": "eb3be6b2-a434-456b-a5df-45eccbe78e1c",
   "metadata": {},
   "outputs": [
    {
     "name": "stdout",
     "output_type": "stream",
     "text": [
      "The shape of X is: (4096, 3172)\n",
      "The shape of Y is: (1, 3172)\n",
      "I have m = 3172 training examples!\n"
     ]
    }
   ],
   "source": [
    "shape_X = train_set_x.shape\n",
    "shape_Y = train_set_y.shape\n",
    "m = train_set_x.shape[1]\n",
    "\n",
    "print ('The shape of X is: ' + str(shape_X))\n",
    "print ('The shape of Y is: ' + str(shape_Y))\n",
    "print ('I have m = %d training examples!' % (m))"
   ]
  },
  {
   "cell_type": "markdown",
   "id": "4d62bb1f-7f42-48d8-9112-cffc96781033",
   "metadata": {},
   "source": [
    "# Neural Net"
   ]
  },
  {
   "cell_type": "markdown",
   "id": "3b31e04d-2f3c-450f-aff6-2122bc10e973",
   "metadata": {},
   "source": [
    "### Defining the neural network structure"
   ]
  },
  {
   "cell_type": "code",
   "execution_count": 11,
   "id": "b045e773-d5f5-4038-a53e-63665a0b3f0f",
   "metadata": {},
   "outputs": [],
   "source": [
    "def layer_sizes(X, Y):\n",
    "    \"\"\"\n",
    "    Arguments:\n",
    "    X -- input dataset of shape (input size, number of examples)\n",
    "    Y -- labels of shape (output size, number of examples)\n",
    "    \n",
    "    Returns:\n",
    "    n_x -- the size of the input layer\n",
    "    n_h -- the size of the hidden layer\n",
    "    n_y -- the size of the output layer\n",
    "    \"\"\"\n",
    "\n",
    "    n_x = X.shape[0]\n",
    "    n_y = Y.shape[0]\n",
    "    n_h = 4\n",
    "    \n",
    "    return (n_x, n_h, n_y)"
   ]
  },
  {
   "cell_type": "markdown",
   "id": "5d6184e4-e389-4cdf-a131-bebda37e0d9e",
   "metadata": {},
   "source": [
    "### Initialize the model's parameters"
   ]
  },
  {
   "cell_type": "code",
   "execution_count": 12,
   "id": "71275143-0e58-4059-9506-e37637658aab",
   "metadata": {},
   "outputs": [],
   "source": [
    "# GRADED FUNCTION: initialize_parameters\n",
    "\n",
    "def initialize_parameters(n_x, n_h, n_y):\n",
    "    \"\"\"\n",
    "    Argument:\n",
    "    n_x -- size of the input layer\n",
    "    n_h -- size of the hidden layer\n",
    "    n_y -- size of the output layer\n",
    "    \n",
    "    Returns:\n",
    "    params -- python dictionary containing your parameters:\n",
    "                    W1 -- weight matrix of shape (n_h, n_x)\n",
    "                    b1 -- bias vector of shape (n_h, 1)\n",
    "                    W2 -- weight matrix of shape (n_y, n_h)\n",
    "                    b2 -- bias vector of shape (n_y, 1)\n",
    "    \"\"\"\n",
    "    \n",
    "    np.random.seed(2) \n",
    "    \n",
    "    W1 = np.random.randn(n_h,n_x)*.01\n",
    "    b1 = np.zeros((n_h,1))\n",
    "    W2 = np.random.randn(n_y,n_h)*.01\n",
    "    b2 = np.zeros((n_y,1))\n",
    "    \n",
    "    assert (W1.shape == (n_h, n_x))\n",
    "    assert (b1.shape == (n_h, 1))\n",
    "    assert (W2.shape == (n_y, n_h))\n",
    "    assert (b2.shape == (n_y, 1))\n",
    "    \n",
    "    parameters = {\"W1\": W1,\n",
    "                  \"b1\": b1,\n",
    "                  \"W2\": W2,\n",
    "                  \"b2\": b2}\n",
    "    \n",
    "    return parameters"
   ]
  },
  {
   "cell_type": "markdown",
   "id": "c8ac0a31-9899-46c9-8255-b3c133b7e7fc",
   "metadata": {},
   "source": [
    "### Forward propogation"
   ]
  },
  {
   "cell_type": "code",
   "execution_count": 13,
   "id": "e9daefc9-cad5-4b18-bf14-87e1d6dc103b",
   "metadata": {},
   "outputs": [],
   "source": [
    "def forward_propagation(X, parameters):\n",
    "    \"\"\"\n",
    "    Argument:\n",
    "    X -- input data of size (n_x, m)\n",
    "    parameters -- python dictionary containing your parameters (output of initialization function)\n",
    "    \n",
    "    Returns:\n",
    "    A2 -- The sigmoid output of the second activation\n",
    "    cache -- a dictionary containing \"Z1\", \"A1\", \"Z2\" and \"A2\"\n",
    "    \"\"\"\n",
    "\n",
    "    W1 = parameters['W1']\n",
    "    b1 = parameters['b1']\n",
    "    W2 = parameters['W2']\n",
    "    b2 = parameters['b2']\n",
    "\n",
    "    Z1 = np.dot(W1, X) + b1\n",
    "    A1 = np.tanh(Z1)\n",
    "    Z2 = np.dot(W2, A1) + b2\n",
    "    A2 = sigmoid(Z2)\n",
    "\n",
    "    \n",
    "    assert(A2.shape == (1, X.shape[1]))\n",
    "    \n",
    "    \n",
    "    cache = {\"Z1\": Z1,\n",
    "             \"A1\": A1,\n",
    "             \"Z2\": Z2,\n",
    "             \"A2\": A2}\n",
    "    \n",
    "    return A2, cache"
   ]
  },
  {
   "cell_type": "markdown",
   "id": "f6971801-eff4-4ed0-bb16-e08ceb055821",
   "metadata": {},
   "source": [
    "### Compute Cost"
   ]
  },
  {
   "cell_type": "code",
   "execution_count": 14,
   "id": "235de4cc-0574-43cb-9882-969ba2d71c2e",
   "metadata": {},
   "outputs": [],
   "source": [
    "def compute_cost(A2, Y, parameters):\n",
    "    \"\"\"\n",
    "    Computes the cross-entropy cost given in equation (13)\n",
    "    \n",
    "    Arguments:\n",
    "    A2 -- The sigmoid output of the second activation, of shape (1, number of examples)\n",
    "    Y -- \"true\" labels vector of shape (1, number of examples)\n",
    "    parameters -- python dictionary containing your parameters W1, b1, W2 and b2\n",
    "    [Note that the parameters argument is not used in this function, \n",
    "    but the auto-grader currently expects this parameter.\n",
    "    Future version of this notebook will fix both the notebook \n",
    "    and the auto-grader so that `parameters` is not needed.\n",
    "    For now, please include `parameters` in the function signature,\n",
    "    and also when invoking this function.]\n",
    "    \n",
    "    Returns:\n",
    "    cost -- cross-entropy cost given equation (13)\n",
    "    \n",
    "    \"\"\"\n",
    "    \n",
    "    m = Y.shape[1]\n",
    "\n",
    "    logprobs = np.multiply(np.log(A2),Y)+np.multiply((np.log(1-A2)),(1-Y))\n",
    "    cost = (-1/m)*np.sum(logprobs)\n",
    "\n",
    "    \n",
    "    cost = float(np.squeeze(cost))\n",
    "                                    \n",
    "    assert(isinstance(cost, float))\n",
    "    \n",
    "    return cost"
   ]
  },
  {
   "cell_type": "markdown",
   "id": "67c95403-41d2-4005-85fa-4946017fb444",
   "metadata": {},
   "source": [
    "### Backward Propogation"
   ]
  },
  {
   "cell_type": "code",
   "execution_count": 15,
   "id": "b7bcb82f-8925-4e70-a210-9fef50c66af4",
   "metadata": {},
   "outputs": [],
   "source": [
    "def backward_propagation(parameters, cache, X, Y):\n",
    "    \"\"\"\n",
    "    Implement the backward propagation using the instructions above.\n",
    "    \n",
    "    Arguments:\n",
    "    parameters -- python dictionary containing our parameters \n",
    "    cache -- a dictionary containing \"Z1\", \"A1\", \"Z2\" and \"A2\".\n",
    "    X -- input data of shape (2, number of examples)\n",
    "    Y -- \"true\" labels vector of shape (1, number of examples)\n",
    "    \n",
    "    Returns:\n",
    "    grads -- python dictionary containing your gradients with respect to different parameters\n",
    "    \"\"\"\n",
    "    m = X.shape[1]\n",
    "\n",
    "    W1 = parameters['W1']\n",
    "    W2 = parameters['W2']\n",
    "\n",
    "    A1 = cache['A1']\n",
    "    A2 = cache['A2']\n",
    "\n",
    "    dZ2 = A2 - Y\n",
    "    dW2 = (1/m)*(np.dot(dZ2,A1.T))\n",
    "    db2 = (1/m)*np.sum(dZ2, axis = 1, keepdims =True)\n",
    "    dZ1 = np.dot(W2.T, dZ2)*(1-np.power(A1,2))\n",
    "    dW1 = (1/m)*(np.dot(dZ1,X.T))\n",
    "    db1 = (1/m)*np.sum(dZ1, axis = 1, keepdims =True)\n",
    "    \n",
    "    grads = {\"dW1\": dW1,\n",
    "             \"db1\": db1,\n",
    "             \"dW2\": dW2,\n",
    "             \"db2\": db2}\n",
    "    \n",
    "    return grads"
   ]
  },
  {
   "cell_type": "markdown",
   "id": "a4dc51c1-cd41-4cc4-bb3e-c8d497755254",
   "metadata": {},
   "source": [
    "### Update Parameters"
   ]
  },
  {
   "cell_type": "code",
   "execution_count": 16,
   "id": "590d0e4d-50ee-420c-92f0-4e49c04a053a",
   "metadata": {},
   "outputs": [],
   "source": [
    "def update_parameters(parameters, grads, learning_rate):\n",
    "    \"\"\"\n",
    "    Updates parameters using the gradient descent update rule given above\n",
    "    \n",
    "    Arguments:\n",
    "    parameters -- python dictionary containing your parameters \n",
    "    grads -- python dictionary containing your gradients \n",
    "    \n",
    "    Returns:\n",
    "    parameters -- python dictionary containing your updated parameters \n",
    "    \"\"\"\n",
    "\n",
    "    W1 = parameters[\"W1\"]\n",
    "    b1 = parameters[\"b1\"]\n",
    "    W2 = parameters[\"W2\"]\n",
    "    b2 = parameters[\"b2\"]\n",
    "\n",
    "    dW1 = grads[\"dW1\"]\n",
    "    db1 = grads[\"db1\"]\n",
    "    dW2 = grads[\"dW2\"]\n",
    "    db2 = grads[\"db2\"]\n",
    "\n",
    "    W1 = W1 - learning_rate * dW1\n",
    "    b1 = b1 - learning_rate * db1\n",
    "    W2 = W2 - learning_rate * dW2\n",
    "    b2 = b2 - learning_rate * db2\n",
    "\n",
    "    \n",
    "    parameters = {\"W1\": W1,\n",
    "                  \"b1\": b1,\n",
    "                  \"W2\": W2,\n",
    "                  \"b2\": b2}\n",
    "    \n",
    "    return parameters"
   ]
  },
  {
   "cell_type": "markdown",
   "id": "c370f424-6f56-455f-a56e-f24199f02543",
   "metadata": {},
   "source": [
    "## Neural Network Model"
   ]
  },
  {
   "cell_type": "code",
   "execution_count": 17,
   "id": "427eb8ea-2133-4a6d-8820-8f0ebb10eb98",
   "metadata": {},
   "outputs": [],
   "source": [
    "# NN_model\n",
    "def nn_model(X, Y, n_h, learning_rate, num_iterations = 10000, print_cost=False):\n",
    "    n_x = layer_sizes(X, Y)[0]\n",
    "    n_y = layer_sizes(X, Y)[2]\n",
    "    \n",
    "    # Initialize parameters\n",
    "    parameters = initialize_parameters(n_x, n_h, n_y)\n",
    "    W1 = parameters[\"W1\"]\n",
    "    b1 = parameters[\"b1\"]\n",
    "    W2 = parameters[\"W2\"]\n",
    "    b2 = parameters[\"b2\"]\n",
    "    \n",
    "    # Loop (gradient descent)\n",
    "    for i in range(0, num_iterations):\n",
    "        # Forward propagation. Inputs: \"X, parameters\". Outputs: \"A2, cache\"\n",
    "        A2, cache = forward_propagation(X, parameters)\n",
    "        # Cost function. Inputs: \"A2, Y, parameters\". Outputs: \"cost\"\n",
    "        cost = compute_cost(A2, Y, parameters)\n",
    "        # Backpropagation. Inputs: \"parameters, cache, X, Y\". Outputs: \"grads\"\n",
    "        grads = backward_propagation(parameters, cache, X, Y)\n",
    "        # Update rule for each parameter\n",
    "        parameters = update_parameters(parameters, grads, learning_rate)\n",
    "        # If print_cost=True, Print the cost every 1000 iterations\n",
    "        \n",
    "        if print_cost and i % 100 == 0:\n",
    "            print (\"Cost after iteration %i: %f\" %(i, cost))\n",
    "    # Returns parameters learnt by the model. They can then be used to predict output\n",
    "    return parameters"
   ]
  },
  {
   "cell_type": "code",
   "execution_count": 18,
   "id": "cc6a964c-8c1e-4fa7-8c77-1a63b83997b2",
   "metadata": {},
   "outputs": [],
   "source": [
    "def sigmoid(z):\n",
    "    s = 1/(1+np.exp(-z))    \n",
    "    return s"
   ]
  },
  {
   "cell_type": "markdown",
   "id": "a53e8d55-81c7-4d25-9092-1e5488a66e55",
   "metadata": {},
   "source": [
    "### Prediction"
   ]
  },
  {
   "cell_type": "code",
   "execution_count": 19,
   "id": "6f1e1e02-eb24-4756-bc01-ec33c4053770",
   "metadata": {},
   "outputs": [],
   "source": [
    "def predict(parameters, X):\n",
    "    \"\"\"\n",
    "    Using the learned parameters, predicts a class for each example in X\n",
    "    \n",
    "    Arguments:\n",
    "    parameters -- python dictionary containing your parameters \n",
    "    X -- input data of size (n_x, m)\n",
    "    \n",
    "    Returns\n",
    "    predictions -- vector of predictions of our model (red: 0 / blue: 1)\n",
    "    \"\"\"\n",
    "\n",
    "    A2, cache = forward_propagation(X, parameters)\n",
    "    predictions = (A2 > 0.5)\n",
    "    \n",
    "    return predictions"
   ]
  },
  {
   "cell_type": "markdown",
   "id": "bae60c91-9f77-4311-92a4-2fdf42fdaf90",
   "metadata": {},
   "source": [
    "### Model"
   ]
  },
  {
   "cell_type": "code",
   "execution_count": 20,
   "id": "e6bcea49-1516-44f7-bb9a-406884e832b9",
   "metadata": {},
   "outputs": [
    {
     "name": "stdout",
     "output_type": "stream",
     "text": [
      "Cost after iteration 0: 0.693174\n",
      "Cost after iteration 100: 0.670671\n",
      "Cost after iteration 200: 0.657527\n",
      "Cost after iteration 300: 0.635860\n",
      "Cost after iteration 400: 0.661519\n",
      "Cost after iteration 500: 0.605139\n",
      "Cost after iteration 600: 0.659054\n",
      "Cost after iteration 700: 0.680658\n",
      "Cost after iteration 800: 0.719673\n",
      "Cost after iteration 900: 0.685962\n",
      "Cost after iteration 1000: 0.603412\n",
      "Cost after iteration 1100: 0.596689\n",
      "Cost after iteration 1200: 0.548795\n",
      "Cost after iteration 1300: 0.563464\n",
      "Cost after iteration 1400: 0.589407\n",
      "Cost after iteration 1500: 0.568772\n",
      "Cost after iteration 1600: 0.483844\n",
      "Cost after iteration 1700: 0.596430\n",
      "Cost after iteration 1800: 0.654420\n",
      "Cost after iteration 1900: 0.452719\n",
      "Cost after iteration 2000: 0.534709\n",
      "Cost after iteration 2100: 0.550877\n",
      "Cost after iteration 2200: 0.523490\n",
      "Cost after iteration 2300: 0.421931\n",
      "Cost after iteration 2400: 0.467539\n",
      "Cost after iteration 2500: 0.528212\n",
      "Cost after iteration 2600: 0.606649\n",
      "Cost after iteration 2700: 0.570131\n",
      "Cost after iteration 2800: 0.562355\n",
      "Cost after iteration 2900: 0.405416\n",
      "Cost after iteration 3000: 0.419064\n",
      "Cost after iteration 3100: 0.448647\n",
      "Cost after iteration 3200: 0.361462\n",
      "Cost after iteration 3300: 0.387240\n",
      "Cost after iteration 3400: 0.526484\n",
      "Cost after iteration 3500: 0.452613\n",
      "Cost after iteration 3600: 0.382641\n",
      "Cost after iteration 3700: 0.864847\n",
      "Cost after iteration 3800: 0.473494\n",
      "Cost after iteration 3900: 0.325941\n",
      "Cost after iteration 4000: 0.521568\n",
      "Cost after iteration 4100: 0.412453\n",
      "Cost after iteration 4200: 0.494568\n",
      "Cost after iteration 4300: 0.404717\n",
      "Cost after iteration 4400: 0.332500\n",
      "Cost after iteration 4500: 0.494040\n",
      "Cost after iteration 4600: 0.335583\n",
      "Cost after iteration 4700: 0.348023\n",
      "Cost after iteration 4800: 0.512346\n",
      "Cost after iteration 4900: 0.375058\n",
      "Cost after iteration 5000: 0.442586\n",
      "Cost after iteration 5100: 0.413577\n",
      "Cost after iteration 5200: 0.692427\n",
      "Cost after iteration 5300: 0.358226\n",
      "Cost after iteration 5400: 0.328882\n",
      "Cost after iteration 5500: 0.436271\n",
      "Cost after iteration 5600: 0.345622\n",
      "Cost after iteration 5700: 0.458003\n",
      "Cost after iteration 5800: 0.652760\n",
      "Cost after iteration 5900: 0.357737\n",
      "Cost after iteration 6000: 0.421886\n",
      "Cost after iteration 6100: 0.694685\n",
      "Cost after iteration 6200: 0.402841\n",
      "Cost after iteration 6300: 0.448325\n",
      "Cost after iteration 6400: 0.413760\n",
      "Cost after iteration 6500: 0.296804\n",
      "Cost after iteration 6600: 0.349521\n",
      "Cost after iteration 6700: 0.270779\n",
      "Cost after iteration 6800: 0.444814\n",
      "Cost after iteration 6900: 0.388303\n",
      "Cost after iteration 7000: 0.483087\n",
      "Cost after iteration 7100: 0.468221\n",
      "Cost after iteration 7200: 0.608451\n",
      "Cost after iteration 7300: 0.455724\n",
      "Cost after iteration 7400: 0.299237\n",
      "Cost after iteration 7500: 0.217116\n",
      "Cost after iteration 7600: 0.210642\n",
      "Cost after iteration 7700: 0.271026\n",
      "Cost after iteration 7800: 0.307308\n",
      "Cost after iteration 7900: 0.229829\n",
      "Cost after iteration 8000: 0.398704\n",
      "Cost after iteration 8100: 0.189126\n",
      "Cost after iteration 8200: 0.472483\n",
      "Cost after iteration 8300: 0.382726\n",
      "Cost after iteration 8400: 0.286689\n",
      "Cost after iteration 8500: 0.355482\n",
      "Cost after iteration 8600: 0.558547\n",
      "Cost after iteration 8700: 0.308557\n",
      "Cost after iteration 8800: 0.390070\n",
      "Cost after iteration 8900: 0.235913\n",
      "Cost after iteration 9000: 0.515912\n",
      "Cost after iteration 9100: 0.409516\n",
      "Cost after iteration 9200: 0.693811\n",
      "Cost after iteration 9300: 0.586103\n",
      "Cost after iteration 9400: 0.257364\n",
      "Cost after iteration 9500: 0.226474\n",
      "Cost after iteration 9600: 0.211359\n",
      "Cost after iteration 9700: 0.205980\n",
      "Cost after iteration 9800: 0.200202\n",
      "Cost after iteration 9900: 0.182253\n",
      "train accuracy: 91.2673392181589 %\n"
     ]
    }
   ],
   "source": [
    "# parameters = nn_model(X, Y, 4, 1.2 , num_iterations = 10000, print_cost=True)\n",
    "parameters = nn_model(train_set_x, train_set_y, 4, 0.2 , num_iterations = 10000, print_cost=True)\n",
    "Y_prediction_train = predict(parameters, train_set_x)\n",
    "print(\"train accuracy: {} %\".format(100 - np.mean(np.abs(Y_prediction_train - train_set_y)) * 100))"
   ]
  },
  {
   "cell_type": "code",
   "execution_count": null,
   "id": "1c458fbc-af3f-4e5b-8e97-b7f28eff3824",
   "metadata": {},
   "outputs": [],
   "source": []
  }
 ],
 "metadata": {
  "kernelspec": {
   "display_name": "Python 3 (ipykernel)",
   "language": "python",
   "name": "python3"
  },
  "language_info": {
   "codemirror_mode": {
    "name": "ipython",
    "version": 3
   },
   "file_extension": ".py",
   "mimetype": "text/x-python",
   "name": "python",
   "nbconvert_exporter": "python",
   "pygments_lexer": "ipython3",
   "version": "3.9.12"
  }
 },
 "nbformat": 4,
 "nbformat_minor": 5
}
